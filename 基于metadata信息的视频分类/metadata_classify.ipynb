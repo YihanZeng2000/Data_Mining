{
 "cells": [
  {
   "cell_type": "code",
   "execution_count": 1,
   "metadata": {},
   "outputs": [],
   "source": [
    "import numpy as np\n",
    "import pandas as pd\n",
    "import matplotlib.pyplot as plt\n",
    "from sklearn.preprocessing import OneHotEncoder, MinMaxScaler\n",
    "import torch\n",
    "import torch.nn as nn\n",
    "from torch.utils.data import TensorDataset, DataLoader\n",
    "from sklearn.preprocessing import StandardScaler\n",
    "from sklearn.metrics import classification_report, accuracy_score, recall_score, f1_score, confusion_matrix\n",
    "from sklearn.decomposition import PCA\n",
    "from sklearn.feature_selection import VarianceThreshold\n",
    "from sklearn.metrics import confusion_matrix\n",
    "from sklearn.ensemble import RandomForestClassifier, AdaBoostClassifier\n",
    "from sklearn.tree import DecisionTreeClassifier"
   ]
  },
  {
   "cell_type": "markdown",
   "metadata": {},
   "source": [
    "### 读取数据"
   ]
  },
  {
   "cell_type": "code",
   "execution_count": 2,
   "metadata": {},
   "outputs": [],
   "source": [
    "plt.rcParams['font.sans-serif'] = ['SimHei']\n",
    "plt.rcParams['axes.unicode_minus'] = False"
   ]
  },
  {
   "cell_type": "code",
   "execution_count": 3,
   "metadata": {},
   "outputs": [],
   "source": [
    "Xtrain = pd.read_csv('X_train.csv')\n",
    "Xtest = pd.read_csv('X_test.csv')\n",
    "ytrain = pd.read_csv('y_train.csv')\n",
    "ytest = pd.read_csv('y_test.csv')"
   ]
  },
  {
   "cell_type": "markdown",
   "metadata": {},
   "source": [
    "### 特征工程"
   ]
  },
  {
   "cell_type": "code",
   "execution_count": 4,
   "metadata": {},
   "outputs": [],
   "source": [
    "for feature in list(Xtrain.columns):\n",
    "    if Xtrain[feature].count() < 5000:\n",
    "        del Xtrain[feature]\n",
    "        del Xtest[feature]"
   ]
  },
  {
   "cell_type": "code",
   "execution_count": 5,
   "metadata": {},
   "outputs": [],
   "source": [
    "X = pd.concat([Xtrain, Xtest], axis=0)\n",
    "y = pd.concat([ytrain, ytest], axis=0)"
   ]
  },
  {
   "cell_type": "code",
   "execution_count": 6,
   "metadata": {},
   "outputs": [],
   "source": [
    "X = X.reset_index(drop = True) #合并后序号重新排列"
   ]
  },
  {
   "cell_type": "code",
   "execution_count": 7,
   "metadata": {},
   "outputs": [
    {
     "name": "stdout",
     "output_type": "stream",
     "text": [
      "<class 'pandas.core.frame.DataFrame'>\n",
      "RangeIndex: 9032 entries, 0 to 9031\n",
      "Data columns (total 46 columns):\n",
      " #   Column                  Non-Null Count  Dtype  \n",
      "---  ------                  --------------  -----  \n",
      " 0   avg_frame_rate          9032 non-null   object \n",
      " 1   bit_rate                9004 non-null   float64\n",
      " 2   channel_layout          9004 non-null   object \n",
      " 3   channels                9004 non-null   float64\n",
      " 4   codec_long_name         9032 non-null   object \n",
      " 5   codec_long_name.1       9004 non-null   object \n",
      " 6   codec_name              9004 non-null   object \n",
      " 7   codec_name.1            9032 non-null   object \n",
      " 8   codec_tag               9032 non-null   object \n",
      " 9   codec_tag_string        9032 non-null   object \n",
      " 10  coded_height            9032 non-null   int64  \n",
      " 11  coded_width             9032 non-null   int64  \n",
      " 12  color_primaries         6062 non-null   object \n",
      " 13  color_range             6499 non-null   object \n",
      " 14  color_space             6335 non-null   object \n",
      " 15  color_transfer          6108 non-null   object \n",
      " 16  display_aspect_ratio    6322 non-null   object \n",
      " 17  has_b_frames            9032 non-null   int64  \n",
      " 18  height                  9032 non-null   int64  \n",
      " 19  index                   9032 non-null   int64  \n",
      " 20  index.1                 9004 non-null   float64\n",
      " 21  level                   9032 non-null   int64  \n",
      " 22  nb_frames               9032 non-null   int64  \n",
      " 23  nb_frames.1             9004 non-null   float64\n",
      " 24  nb_streams              9032 non-null   int64  \n",
      " 25  pix_fmt                 9032 non-null   object \n",
      " 26  profile                 9001 non-null   object \n",
      " 27  profile.1               9032 non-null   object \n",
      " 28  r_frame_rate.1          9032 non-null   object \n",
      " 29  sample_aspect_ratio     6322 non-null   object \n",
      " 30  sample_rate             9004 non-null   float64\n",
      " 31  start_pts               9032 non-null   int64  \n",
      " 32  start_pts.1             9004 non-null   float64\n",
      " 33  start_time              9032 non-null   float64\n",
      " 34  start_time.1            9004 non-null   float64\n",
      " 35  tags_compatible_brands  9032 non-null   object \n",
      " 36  tags_encoder.1          8049 non-null   object \n",
      " 37  tags_handler_name       9008 non-null   object \n",
      " 38  tags_handler_name.1     8980 non-null   object \n",
      " 39  tags_language           9032 non-null   object \n",
      " 40  tags_language.1         9004 non-null   object \n",
      " 41  tags_major_brand        9032 non-null   object \n",
      " 42  tags_vendor_id.1        9032 non-null   object \n",
      " 43  time_base               9032 non-null   object \n",
      " 44  time_base.1             9004 non-null   object \n",
      " 45  width                   9032 non-null   int64  \n",
      "dtypes: float64(8), int64(10), object(28)\n",
      "memory usage: 3.2+ MB\n"
     ]
    }
   ],
   "source": [
    "X.info()"
   ]
  },
  {
   "cell_type": "code",
   "execution_count": 8,
   "metadata": {},
   "outputs": [],
   "source": [
    "for feature in list(X.columns):\n",
    "    if X[feature].isnull().sum() > 0:\n",
    "        X[feature] = X[feature].fillna(method='ffill')\n",
    "    else:\n",
    "        pass"
   ]
  },
  {
   "cell_type": "code",
   "execution_count": 9,
   "metadata": {},
   "outputs": [
    {
     "name": "stdout",
     "output_type": "stream",
     "text": [
      "<class 'pandas.core.frame.DataFrame'>\n",
      "RangeIndex: 9032 entries, 0 to 9031\n",
      "Data columns (total 46 columns):\n",
      " #   Column                  Non-Null Count  Dtype  \n",
      "---  ------                  --------------  -----  \n",
      " 0   avg_frame_rate          9032 non-null   object \n",
      " 1   bit_rate                9032 non-null   float64\n",
      " 2   channel_layout          9032 non-null   object \n",
      " 3   channels                9032 non-null   float64\n",
      " 4   codec_long_name         9032 non-null   object \n",
      " 5   codec_long_name.1       9032 non-null   object \n",
      " 6   codec_name              9032 non-null   object \n",
      " 7   codec_name.1            9032 non-null   object \n",
      " 8   codec_tag               9032 non-null   object \n",
      " 9   codec_tag_string        9032 non-null   object \n",
      " 10  coded_height            9032 non-null   int64  \n",
      " 11  coded_width             9032 non-null   int64  \n",
      " 12  color_primaries         9032 non-null   object \n",
      " 13  color_range             9032 non-null   object \n",
      " 14  color_space             9032 non-null   object \n",
      " 15  color_transfer          9032 non-null   object \n",
      " 16  display_aspect_ratio    9032 non-null   object \n",
      " 17  has_b_frames            9032 non-null   int64  \n",
      " 18  height                  9032 non-null   int64  \n",
      " 19  index                   9032 non-null   int64  \n",
      " 20  index.1                 9032 non-null   float64\n",
      " 21  level                   9032 non-null   int64  \n",
      " 22  nb_frames               9032 non-null   int64  \n",
      " 23  nb_frames.1             9032 non-null   float64\n",
      " 24  nb_streams              9032 non-null   int64  \n",
      " 25  pix_fmt                 9032 non-null   object \n",
      " 26  profile                 9032 non-null   object \n",
      " 27  profile.1               9032 non-null   object \n",
      " 28  r_frame_rate.1          9032 non-null   object \n",
      " 29  sample_aspect_ratio     9032 non-null   object \n",
      " 30  sample_rate             9032 non-null   float64\n",
      " 31  start_pts               9032 non-null   int64  \n",
      " 32  start_pts.1             9032 non-null   float64\n",
      " 33  start_time              9032 non-null   float64\n",
      " 34  start_time.1            9032 non-null   float64\n",
      " 35  tags_compatible_brands  9032 non-null   object \n",
      " 36  tags_encoder.1          9032 non-null   object \n",
      " 37  tags_handler_name       9032 non-null   object \n",
      " 38  tags_handler_name.1     9032 non-null   object \n",
      " 39  tags_language           9032 non-null   object \n",
      " 40  tags_language.1         9032 non-null   object \n",
      " 41  tags_major_brand        9032 non-null   object \n",
      " 42  tags_vendor_id.1        9032 non-null   object \n",
      " 43  time_base               9032 non-null   object \n",
      " 44  time_base.1             9032 non-null   object \n",
      " 45  width                   9032 non-null   int64  \n",
      "dtypes: float64(8), int64(10), object(28)\n",
      "memory usage: 3.2+ MB\n"
     ]
    }
   ],
   "source": [
    "X.info()"
   ]
  },
  {
   "cell_type": "code",
   "execution_count": null,
   "metadata": {},
   "outputs": [],
   "source": []
  },
  {
   "cell_type": "code",
   "execution_count": 10,
   "metadata": {},
   "outputs": [],
   "source": [
    "# X = X.dropna(axis=1)  #丢失含有缺失值的特征"
   ]
  },
  {
   "cell_type": "code",
   "execution_count": 11,
   "metadata": {},
   "outputs": [],
   "source": [
    "for feature in list(X.columns):\n",
    "    if X[feature].dtype == 'object':\n",
    "        x = X[feature].values.reshape(-1,1)\n",
    "        encode = OneHotEncoder(categories='auto').fit_transform(x).toarray()\n",
    "        del X[feature]\n",
    "        X = pd.concat([X, pd.DataFrame(encode)], axis=1)\n",
    "        assert len(X) == 9032\n",
    "    else:\n",
    "        pass"
   ]
  },
  {
   "cell_type": "code",
   "execution_count": 12,
   "metadata": {},
   "outputs": [],
   "source": [
    "std_transform = MinMaxScaler()\n",
    "X = std_transform.fit_transform(X)"
   ]
  },
  {
   "cell_type": "markdown",
   "metadata": {},
   "source": [
    "### 特征选择"
   ]
  },
  {
   "cell_type": "code",
   "execution_count": 13,
   "metadata": {},
   "outputs": [],
   "source": [
    "pca = PCA(n_components=100)\n",
    "X = pca.fit_transform(X)"
   ]
  },
  {
   "cell_type": "code",
   "execution_count": 14,
   "metadata": {},
   "outputs": [],
   "source": [
    "Xtrain = pd.DataFrame(X).iloc[0:len(Xtrain),:]\n",
    "Xtest = pd.DataFrame(X).iloc[len(Xtrain):,:]"
   ]
  },
  {
   "cell_type": "markdown",
   "metadata": {},
   "source": [
    "### 随机森林分类"
   ]
  },
  {
   "cell_type": "code",
   "execution_count": 15,
   "metadata": {},
   "outputs": [],
   "source": [
    "rfc = RandomForestClassifier(n_estimators=100, max_depth=10, min_samples_split=10, random_state=0, oob_score=True)"
   ]
  },
  {
   "cell_type": "code",
   "execution_count": 16,
   "metadata": {},
   "outputs": [
    {
     "name": "stderr",
     "output_type": "stream",
     "text": [
      "<ipython-input-16-ba21a1a54e75>:1: DataConversionWarning: A column-vector y was passed when a 1d array was expected. Please change the shape of y to (n_samples,), for example using ravel().\n",
      "  rfc = rfc.fit(Xtrain,ytrain)\n"
     ]
    }
   ],
   "source": [
    "rfc = rfc.fit(Xtrain,ytrain)"
   ]
  },
  {
   "cell_type": "code",
   "execution_count": 17,
   "metadata": {},
   "outputs": [],
   "source": [
    "rfc_pred = rfc.predict(Xtest)"
   ]
  },
  {
   "cell_type": "markdown",
   "metadata": {},
   "source": [
    "### 随机森林分类结果打印与可视化"
   ]
  },
  {
   "cell_type": "code",
   "execution_count": 18,
   "metadata": {},
   "outputs": [
    {
     "name": "stdout",
     "output_type": "stream",
     "text": [
      "accuracy : 0.9557522123893806\n",
      "recall : 0.9541914934077079\n",
      "f1 score : 0.9535952625788182\n",
      "all claasification_report :\n",
      "                precision    recall  f1-score   support\n",
      "\n",
      "           0       0.84      0.91      0.87       102\n",
      "           1       1.00      1.00      1.00        88\n",
      "           2       0.99      1.00      1.00       112\n",
      "           3       0.99      0.97      0.98       116\n",
      "           4       0.99      1.00      1.00       104\n",
      "           5       0.87      0.85      0.86       100\n",
      "           6       1.00      1.00      1.00       154\n",
      "           7       0.95      0.91      0.93       128\n",
      "\n",
      "    accuracy                           0.96       904\n",
      "   macro avg       0.95      0.95      0.95       904\n",
      "weighted avg       0.96      0.96      0.96       904\n",
      "\n"
     ]
    }
   ],
   "source": [
    "rfc_accuracy = accuracy_score(ytest, rfc_pred)\n",
    "rfc_recall = recall_score(ytest, rfc_pred, average='macro')\n",
    "rfc_f1 = f1_score(ytest, rfc_pred, average='macro')\n",
    "print('accuracy :',rfc_accuracy)\n",
    "print('recall :',rfc_recall)\n",
    "print('f1 score :',rfc_f1)\n",
    "print('all claasification_report :\\n ',classification_report(ytest, rfc_pred))"
   ]
  },
  {
   "cell_type": "code",
   "execution_count": 19,
   "metadata": {},
   "outputs": [],
   "source": [
    "cm = confusion_matrix(ytest.values.squeeze(), rfc_pred)"
   ]
  },
  {
   "cell_type": "code",
   "execution_count": 20,
   "metadata": {},
   "outputs": [
    {
     "data": {
      "text/plain": [
       "Text(0.5, 1.0, '混淆矩阵')"
      ]
     },
     "execution_count": 20,
     "metadata": {},
     "output_type": "execute_result"
    },
    {
     "data": {
      "image/png": "[encoded data removed]",
      "text/plain": [
       "<Figure size 432x288 with 2 Axes>"
      ]
     },
     "metadata": {
      "needs_background": "light"
     },
     "output_type": "display_data"
    }
   ],
   "source": [
    "plt.imshow(cm, cmap=plt.cm.Blues)\n",
    "indices = range(len(cm))\n",
    "plt.xticks(indices, ['淘宝','小红书','抖音','京东','快手','拼多多','微博','唯品会'])\n",
    "plt.yticks(indices, ['淘宝','小红书','抖音','京东','快手','拼多多','微博','唯品会'])\n",
    "plt.colorbar()\n",
    "plt.xlabel('预测值')\n",
    "plt.ylabel('真实值')\n",
    "plt.title('混淆矩阵')"
   ]
  },
  {
   "cell_type": "markdown",
   "metadata": {},
   "source": [
    "### Adaboost分类"
   ]
  },
  {
   "cell_type": "code",
   "execution_count": 21,
   "metadata": {},
   "outputs": [],
   "source": [
    "base_estimator = DecisionTreeClassifier(max_depth=4, min_samples_split=20, min_samples_leaf=5)"
   ]
  },
  {
   "cell_type": "code",
   "execution_count": 22,
   "metadata": {},
   "outputs": [],
   "source": [
    "bdt = AdaBoostClassifier(base_estimator,\n",
    "                         algorithm=\"SAMME\",\n",
    "                         n_estimators=100, learning_rate=0.8)"
   ]
  },
  {
   "cell_type": "code",
   "execution_count": 23,
   "metadata": {},
   "outputs": [
    {
     "name": "stderr",
     "output_type": "stream",
     "text": [
      "D:\\python3_6\\lib\\site-packages\\sklearn\\utils\\validation.py:72: DataConversionWarning: A column-vector y was passed when a 1d array was expected. Please change the shape of y to (n_samples, ), for example using ravel().\n",
      "  return f(**kwargs)\n"
     ]
    },
    {
     "data": {
      "text/plain": [
       "AdaBoostClassifier(algorithm='SAMME',\n",
       "                   base_estimator=DecisionTreeClassifier(max_depth=4,\n",
       "                                                         min_samples_leaf=5,\n",
       "                                                         min_samples_split=20),\n",
       "                   learning_rate=0.8, n_estimators=100)"
      ]
     },
     "execution_count": 23,
     "metadata": {},
     "output_type": "execute_result"
    }
   ],
   "source": [
    "bdt.fit(Xtrain, ytrain)"
   ]
  },
  {
   "cell_type": "code",
   "execution_count": 24,
   "metadata": {},
   "outputs": [],
   "source": [
    "bdt_pred = bdt.predict(Xtest)"
   ]
  },
  {
   "cell_type": "markdown",
   "metadata": {},
   "source": [
    "### adaboost分类结果打印与可视化"
   ]
  },
  {
   "cell_type": "code",
   "execution_count": 25,
   "metadata": {},
   "outputs": [
    {
     "name": "stdout",
     "output_type": "stream",
     "text": [
      "accuracy : 0.9391592920353983\n",
      "recall : 0.9358026174246223\n",
      "f1 score : 0.935951623081118\n",
      "all claasification_report :\n",
      "                precision    recall  f1-score   support\n",
      "\n",
      "           0       0.83      0.78      0.81       102\n",
      "           1       1.00      1.00      1.00        88\n",
      "           2       0.99      0.98      0.99       112\n",
      "           3       0.98      0.97      0.97       116\n",
      "           4       1.00      0.99      1.00       104\n",
      "           5       0.78      0.85      0.81       100\n",
      "           6       1.00      1.00      1.00       154\n",
      "           7       0.91      0.91      0.91       128\n",
      "\n",
      "    accuracy                           0.94       904\n",
      "   macro avg       0.94      0.94      0.94       904\n",
      "weighted avg       0.94      0.94      0.94       904\n",
      "\n"
     ]
    }
   ],
   "source": [
    "bdt_accuracy = accuracy_score(ytest, bdt_pred)\n",
    "bdt_recall = recall_score(ytest, bdt_pred, average='macro')\n",
    "bdt_f1 = f1_score(ytest, bdt_pred, average='macro')\n",
    "print('accuracy :',bdt_accuracy)\n",
    "print('recall :',bdt_recall)\n",
    "print('f1 score :',bdt_f1)\n",
    "print('all claasification_report :\\n ',classification_report(ytest, bdt_pred))"
   ]
  },
  {
   "cell_type": "code",
   "execution_count": 26,
   "metadata": {},
   "outputs": [],
   "source": [
    "cm = confusion_matrix(ytest.values.squeeze(), bdt_pred)"
   ]
  },
  {
   "cell_type": "code",
   "execution_count": 27,
   "metadata": {},
   "outputs": [
    {
     "data": {
      "text/plain": [
       "Text(0.5, 1.0, '混淆矩阵')"
      ]
     },
     "execution_count": 27,
     "metadata": {},
     "output_type": "execute_result"
    },
    {
     "data": {
      "image/png": "[encoded data removed]",
      "text/plain": [
       "<Figure size 432x288 with 2 Axes>"
      ]
     },
     "metadata": {
      "needs_background": "light"
     },
     "output_type": "display_data"
    }
   ],
   "source": [
    "plt.imshow(cm, cmap=plt.cm.Blues)\n",
    "indices = range(len(cm))\n",
    "plt.xticks(indices, ['淘宝','小红书','抖音','京东','快手','拼多多','微博','唯品会'])\n",
    "plt.yticks(indices, ['淘宝','小红书','抖音','京东','快手','拼多多','微博','唯品会'])\n",
    "plt.colorbar()\n",
    "plt.xlabel('预测值')\n",
    "plt.ylabel('真实值')\n",
    "plt.title('混淆矩阵')"
   ]
  },
  {
   "cell_type": "markdown",
   "metadata": {},
   "source": [
    "### 神经网络分类"
   ]
  },
  {
   "cell_type": "code",
   "execution_count": 28,
   "metadata": {},
   "outputs": [],
   "source": [
    "Xtrain = torch.from_numpy(Xtrain.values).type(torch.FloatTensor)\n",
    "Xtest = torch.from_numpy(Xtest.values).type(torch.FloatTensor)\n",
    "ytrain = torch.from_numpy(ytrain.values).type(torch.LongTensor)\n",
    "ytest = torch.from_numpy(ytest.values).type(torch.LongTensor)"
   ]
  },
  {
   "cell_type": "code",
   "execution_count": 29,
   "metadata": {},
   "outputs": [
    {
     "data": {
      "text/plain": [
       "(torch.Size([8128, 100]),\n",
       " torch.Size([904, 100]),\n",
       " torch.Size([8128, 1]),\n",
       " torch.Size([904, 1]))"
      ]
     },
     "execution_count": 29,
     "metadata": {},
     "output_type": "execute_result"
    }
   ],
   "source": [
    "Xtrain.size(), Xtest.size(), ytrain.size(), ytest.size()"
   ]
  },
  {
   "cell_type": "code",
   "execution_count": 30,
   "metadata": {},
   "outputs": [],
   "source": [
    "class Model(nn.Module):\n",
    "    def __init__(self):\n",
    "        super().__init__()\n",
    "        self.linear_1 = nn.Linear(100, 1024)\n",
    "        self.linear_2 = nn.Linear(1024, 512)\n",
    "        self.linear_3 = nn.Linear(512, 256)\n",
    "        self.linear_4 = nn.Linear(256,128)\n",
    "        self.linear_5 = nn.Linear(128, 64)\n",
    "        self.linear_6 = nn.Linear(64, 32)\n",
    "        self.linear_7 = nn.Linear(32, 8)\n",
    "        self.relu = nn.ReLU()\n",
    "    def forward(self, input):\n",
    "        x1 = self.linear_1(input)\n",
    "        x1 = self.relu(x1)\n",
    "        x2 = self.linear_2(x1)\n",
    "        x2 = self.relu(x2)\n",
    "        x3 = self.linear_3(x2)\n",
    "        x3 = self.relu(x3)\n",
    "        x4 = self.linear_4(x3)\n",
    "        x4 = self.relu(x4)\n",
    "        x5 = self.linear_5(x4)\n",
    "        x5 = self.relu(x5)\n",
    "        x6 = self.linear_6(x5)\n",
    "        x6 = self.relu(x6)\n",
    "        x7 = self.linear_7(x6)\n",
    "        return x7"
   ]
  },
  {
   "cell_type": "code",
   "execution_count": 31,
   "metadata": {},
   "outputs": [],
   "source": [
    "model = Model()\n",
    "device = 'cuda' if torch.cuda.is_available() else 'cpu'\n",
    "lr = 0.0001"
   ]
  },
  {
   "cell_type": "code",
   "execution_count": 32,
   "metadata": {},
   "outputs": [],
   "source": [
    "def get_model():\n",
    "    model = Model()\n",
    "    opt = torch.optim.Adam(model.parameters(), lr=lr)\n",
    "    return model, opt"
   ]
  },
  {
   "cell_type": "code",
   "execution_count": 33,
   "metadata": {},
   "outputs": [],
   "source": [
    "model, opt = get_model()\n",
    "model.to(device)\n",
    "loss_fn = nn.CrossEntropyLoss()\n",
    "batch_size = 32\n",
    "number_of_batch = len(Xtrain)//batch_size"
   ]
  },
  {
   "cell_type": "code",
   "execution_count": 34,
   "metadata": {},
   "outputs": [],
   "source": [
    "train_ds = TensorDataset(Xtrain, ytrain) \n",
    "train_dl = DataLoader(train_ds, batch_size=batch_size, shuffle=True)"
   ]
  },
  {
   "cell_type": "code",
   "execution_count": 35,
   "metadata": {},
   "outputs": [],
   "source": [
    "test_ds = TensorDataset(Xtest, ytest) \n",
    "test_dl = DataLoader(test_ds, batch_size=batch_size, shuffle=True)"
   ]
  },
  {
   "cell_type": "code",
   "execution_count": 36,
   "metadata": {},
   "outputs": [],
   "source": [
    "# 训练函数\n",
    "def train(dl, model, loss_fn, optimizer):\n",
    "    size = len(dl.dataset)    \n",
    "    num_batches = len(dl)\n",
    "        \n",
    "    train_loss, correct = 0, 0\n",
    "        \n",
    "    for x, y in dl:\n",
    "        x, y = x.to(device), y.squeeze(dim=1).to(device)\n",
    "        pred = model(x)\n",
    "        loss = loss_fn(pred, y)\n",
    "        optimizer.zero_grad()\n",
    "        loss.backward()\n",
    "        optimizer.step()\n",
    "        with torch.no_grad():\n",
    "            correct += (pred.argmax(1) == y).type(torch.float).sum().item()\n",
    "            train_loss += loss.item()\n",
    "    correct /= size\n",
    "    train_loss /= num_batches\n",
    "    return correct, train_loss"
   ]
  },
  {
   "cell_type": "code",
   "execution_count": 37,
   "metadata": {},
   "outputs": [],
   "source": [
    "# 测试函数\n",
    "def test(test_dl, model, loss_fn):\n",
    "    size = len(test_dl.dataset)    \n",
    "    num_batches = len(test_dl)\n",
    "    test_loss, correct = 0, 0\n",
    "    with torch.no_grad():\n",
    "        for x, y in test_dl:\n",
    "            x, y = x.to(device), y.squeeze(dim=1).to(device)\n",
    "            pred = model(x)\n",
    "            loss = loss_fn(pred, y)\n",
    "            test_loss += loss.item()\n",
    "            correct += (pred.argmax(1) == y).type(torch.float).sum().item()\n",
    "        correct /= size\n",
    "        test_loss /= num_batches\n",
    "        return correct, test_loss"
   ]
  },
  {
   "cell_type": "code",
   "execution_count": 38,
   "metadata": {},
   "outputs": [
    {
     "name": "stdout",
     "output_type": "stream",
     "text": [
      "epoch: 0, train_Loss:1.30511, train_acc:56.8,test_Loss:0.40254, test_acc:88.4\n",
      "epoch: 1, train_Loss:0.27216, train_acc:91.4,test_Loss:0.21746, test_acc:93.1\n",
      "epoch: 2, train_Loss:0.19789, train_acc:93.9,test_Loss:0.18839, test_acc:94.0\n",
      "epoch: 3, train_Loss:0.16880, train_acc:94.7,test_Loss:0.17762, test_acc:94.1\n",
      "epoch: 4, train_Loss:0.15054, train_acc:95.0,test_Loss:0.16449, test_acc:94.8\n",
      "epoch: 5, train_Loss:0.14081, train_acc:95.2,test_Loss:0.15441, test_acc:95.0\n",
      "epoch: 6, train_Loss:0.13352, train_acc:95.3,test_Loss:0.16934, test_acc:94.4\n",
      "epoch: 7, train_Loss:0.12628, train_acc:95.7,test_Loss:0.16004, test_acc:94.5\n",
      "epoch: 8, train_Loss:0.12093, train_acc:95.7,test_Loss:0.16538, test_acc:94.7\n",
      "epoch: 9, train_Loss:0.11355, train_acc:96.0,test_Loss:0.15536, test_acc:94.9\n",
      "epoch:10, train_Loss:0.10897, train_acc:95.8,test_Loss:0.16288, test_acc:95.6\n",
      "epoch:11, train_Loss:0.10682, train_acc:96.0,test_Loss:0.17397, test_acc:95.2\n",
      "epoch:12, train_Loss:0.10335, train_acc:96.2,test_Loss:0.15145, test_acc:94.9\n",
      "epoch:13, train_Loss:0.10123, train_acc:96.2,test_Loss:0.14752, test_acc:94.8\n",
      "epoch:14, train_Loss:0.09871, train_acc:96.4,test_Loss:0.14901, test_acc:95.5\n",
      "epoch:15, train_Loss:0.09628, train_acc:96.4,test_Loss:0.15036, test_acc:95.7\n",
      "epoch:16, train_Loss:0.09416, train_acc:96.4,test_Loss:0.14336, test_acc:95.7\n",
      "epoch:17, train_Loss:0.09238, train_acc:96.4,test_Loss:0.14285, test_acc:95.2\n",
      "epoch:18, train_Loss:0.08836, train_acc:96.5,test_Loss:0.15377, test_acc:95.0\n",
      "epoch:19, train_Loss:0.08770, train_acc:96.6,test_Loss:0.14671, test_acc:95.6\n",
      "Done\n"
     ]
    }
   ],
   "source": [
    "epochs = 20\n",
    "\n",
    "train_loss = []\n",
    "train_acc = []\n",
    "test_loss = []\n",
    "test_acc = []\n",
    "\n",
    "for epoch in range(epochs):\n",
    "    epoch_acc, epoch_loss = train(train_dl, model, loss_fn, opt)\n",
    "    epoch_test_acc, epoch_test_loss = test(test_dl, model, loss_fn)\n",
    "    train_acc.append(epoch_acc)\n",
    "    train_loss.append(epoch_loss)\n",
    "    test_acc.append(epoch_test_acc)\n",
    "    test_loss.append(epoch_test_loss)\n",
    "    \n",
    "    template = (\"epoch:{:2d}, train_Loss:{:.5f}, train_acc:{:.1f},test_Loss:{:.5f}, test_acc:{:.1f}\")\n",
    "    \n",
    "    print(template.format(epoch, epoch_loss, epoch_acc*100, epoch_test_loss, epoch_test_acc*100))\n",
    "print('Done')"
   ]
  },
  {
   "cell_type": "markdown",
   "metadata": {},
   "source": [
    "### 训练过程可视化"
   ]
  },
  {
   "cell_type": "code",
   "execution_count": 39,
   "metadata": {},
   "outputs": [
    {
     "data": {
      "text/plain": [
       "<matplotlib.legend.Legend at 0x18d1d134b50>"
      ]
     },
     "execution_count": 39,
     "metadata": {},
     "output_type": "execute_result"
    },
    {
     "data": {
      "image/png": "[encoded data removed]",
      "text/plain": [
       "<Figure size 432x288 with 1 Axes>"
      ]
     },
     "metadata": {
      "needs_background": "light"
     },
     "output_type": "display_data"
    }
   ],
   "source": [
    "plt.plot(range(epochs), train_loss, label='train_loss')\n",
    "plt.plot(range(epochs), test_loss, label='test_loss')\n",
    "plt.legend()"
   ]
  },
  {
   "cell_type": "code",
   "execution_count": 40,
   "metadata": {},
   "outputs": [
    {
     "data": {
      "text/plain": [
       "<matplotlib.legend.Legend at 0x18d1d0ded60>"
      ]
     },
     "execution_count": 40,
     "metadata": {},
     "output_type": "execute_result"
    },
    {
     "data": {
      "image/png": "[encoded data removed]",
      "text/plain": [
       "<Figure size 432x288 with 1 Axes>"
      ]
     },
     "metadata": {
      "needs_background": "light"
     },
     "output_type": "display_data"
    }
   ],
   "source": [
    "plt.plot(range(epochs), train_acc, label='train_acc')\n",
    "plt.plot(range(epochs), test_acc, label='test_acc')\n",
    "plt.legend()"
   ]
  },
  {
   "cell_type": "markdown",
   "metadata": {},
   "source": [
    "### 神经网络分类结果打印与可视化"
   ]
  },
  {
   "cell_type": "code",
   "execution_count": 41,
   "metadata": {},
   "outputs": [],
   "source": [
    "def evaluate(test_dl, model):\n",
    "    size = len(test_dl.dataset)    \n",
    "    num_batches = len(test_dl)\n",
    "    test_loss, correct = 0, 0\n",
    "    with torch.no_grad():\n",
    "        for x, y in test_dl:\n",
    "            x, y = x.to(device), y.squeeze(dim=1).to(device)\n",
    "            pred = model(x)\n",
    "            pred = torch.argmax(pred, dim=1)\n",
    "            net_accuracy = accuracy_score(y.cpu(), pred.cpu())\n",
    "            net_recall = recall_score(y.cpu(), pred.cpu(),  average='macro')\n",
    "            net_f1 = f1_score(y.cpu(), pred.cpu(),  average='macro')\n",
    "            print('accuracy : ',net_accuracy)\n",
    "            print('recall : ',net_recall)\n",
    "            print('f1 score : ',net_f1)\n",
    "            print('all claasification_report :\\n ',classification_report(pred.cpu(), y.cpu()))\n",
    "            return net_accuracy, net_recall, net_f1"
   ]
  },
  {
   "cell_type": "code",
   "execution_count": 42,
   "metadata": {},
   "outputs": [],
   "source": [
    "test_ds = TensorDataset(Xtest, ytest) \n",
    "test_dl = DataLoader(test_ds, batch_size=len(test_ds), shuffle=True)"
   ]
  },
  {
   "cell_type": "code",
   "execution_count": 43,
   "metadata": {},
   "outputs": [
    {
     "name": "stdout",
     "output_type": "stream",
     "text": [
      "accuracy :  0.9557522123893806\n",
      "recall :  0.9531734121450304\n",
      "f1 score :  0.9531442147290194\n",
      "all claasification_report :\n",
      "                precision    recall  f1-score   support\n",
      "\n",
      "           0       0.85      0.87      0.86       100\n",
      "           1       1.00      1.00      1.00        88\n",
      "           2       1.00      0.99      1.00       113\n",
      "           3       0.98      0.96      0.97       119\n",
      "           4       1.00      0.99      1.00       105\n",
      "           5       0.86      0.89      0.87        97\n",
      "           6       1.00      1.00      1.00       154\n",
      "           7       0.93      0.93      0.93       128\n",
      "\n",
      "    accuracy                           0.96       904\n",
      "   macro avg       0.95      0.95      0.95       904\n",
      "weighted avg       0.96      0.96      0.96       904\n",
      "\n"
     ]
    }
   ],
   "source": [
    "net_accuracy, net_recall, net_f1 = evaluate(test_dl, model)"
   ]
  },
  {
   "cell_type": "code",
   "execution_count": 44,
   "metadata": {},
   "outputs": [],
   "source": [
    "size = len(test_dl.dataset)    \n",
    "num_batches = len(test_dl)\n",
    "test_loss, correct = 0, 0\n",
    "with torch.no_grad():\n",
    "    for x, y in test_dl:\n",
    "        x, y = x.to(device), y.squeeze(dim=1).to(device)\n",
    "        pred = model(x)\n",
    "        pred = torch.argmax(pred, dim=1)\n",
    "        cm = confusion_matrix(y.cpu().numpy(),pred.cpu().numpy()) "
   ]
  },
  {
   "cell_type": "code",
   "execution_count": 45,
   "metadata": {},
   "outputs": [
    {
     "data": {
      "text/plain": [
       "Text(0.5, 1.0, '混淆矩阵')"
      ]
     },
     "execution_count": 45,
     "metadata": {},
     "output_type": "execute_result"
    },
    {
     "data": {
      "image/png": "[encoded data removed]",
      "text/plain": [
       "<Figure size 432x288 with 2 Axes>"
      ]
     },
     "metadata": {
      "needs_background": "light"
     },
     "output_type": "display_data"
    }
   ],
   "source": [
    "plt.imshow(cm, cmap=plt.cm.Blues)\n",
    "indices = range(len(cm))\n",
    "plt.xticks(indices, ['淘宝','小红书','抖音','京东','快手','拼多多','微博','唯品会'])\n",
    "plt.yticks(indices, ['淘宝','小红书','抖音','京东','快手','拼多多','微博','唯品会'])\n",
    "plt.colorbar()\n",
    "plt.xlabel('预测值')\n",
    "plt.ylabel('真实值')\n",
    "plt.title('混淆矩阵')"
   ]
  },
  {
   "cell_type": "code",
   "execution_count": null,
   "metadata": {},
   "outputs": [],
   "source": []
  }
 ],
 "metadata": {
  "kernelspec": {
   "display_name": "Python 3",
   "language": "python",
   "name": "python3"
  },
  "language_info": {
   "codemirror_mode": {
    "name": "ipython",
    "version": 3
   },
   "file_extension": ".py",
   "mimetype": "text/x-python",
   "name": "python",
   "nbconvert_exporter": "python",
   "pygments_lexer": "ipython3",
   "version": "3.8.5"
  }
 },
 "nbformat": 4,
 "nbformat_minor": 4
}
